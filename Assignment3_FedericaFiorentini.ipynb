{
 "cells": [
  {
   "cell_type": "code",
   "execution_count": 1,
   "metadata": {},
   "outputs": [
    {
     "name": "stderr",
     "output_type": "stream",
     "text": [
      "Using TensorFlow backend.\n"
     ]
    }
   ],
   "source": [
    "# libraries import\n",
    "\n",
    "import pickle \n",
    "\n",
    "import numpy as np\n",
    "\n",
    "import sklearn\n",
    "from sklearn.model_selection import train_test_split\n",
    "\n",
    "from keras.models import Sequential, Model\n",
    "from keras.layers import Dense, Activation, Input, Conv2D, Flatten, MaxPooling2D \n",
    "from keras.layers.core import Dropout\n",
    "from keras.callbacks import EarlyStopping, ModelCheckpoint\n",
    "from keras.optimizers import Adam\n",
    "\n",
    "import matplotlib.pyplot as plt\n",
    "import matplotlib as mpl\n",
    "from matplotlib import pyplot\n",
    "%matplotlib inline\n",
    "\n",
    "from keras.datasets import mnist\n",
    "\n",
    "from keras.utils import np_utils\n",
    "\n",
    "from collections import Counter"
   ]
  },
  {
   "cell_type": "markdown",
   "metadata": {},
   "source": [
    "### MNIST Digits Dataset"
   ]
  },
  {
   "cell_type": "markdown",
   "metadata": {},
   "source": [
    "Il dataset *Mnist Digits* è una base di dati di cifre scritte a mano che viene utilizzata per allenare modelli e sistemi utili all'elaborazione delle immagini. Il dataset contiene 60.000 immagini di addestramento e 10.000 immagini di testing, tutte aventi dimensioni 28X28.\n",
    "\n",
    "Di seguito viene caricato il dataset tramite le API di Keras e viene estratto un elemento di esempio.\n",
    "\n",
    "Infine, una rappresentazione di alcune cifre presenti."
   ]
  },
  {
   "cell_type": "code",
   "execution_count": 2,
   "metadata": {},
   "outputs": [],
   "source": [
    "# file import\n",
    "\n",
    "(x_train, y_train), (x_test, y_test) = mnist.load_data() "
   ]
  },
  {
   "cell_type": "code",
   "execution_count": 3,
   "metadata": {},
   "outputs": [
    {
     "data": {
      "text/plain": [
       "(60000, 28, 28)"
      ]
     },
     "execution_count": 3,
     "metadata": {},
     "output_type": "execute_result"
    }
   ],
   "source": [
    "x_train.shape"
   ]
  },
  {
   "cell_type": "code",
   "execution_count": 4,
   "metadata": {},
   "outputs": [
    {
     "data": {
      "text/plain": [
       "array([[  0,   0,   0,   0,   0,   0,   0,   0,   0,   0,   0,   0,   0,\n",
       "          0,   0,   0,   0,   0,   0,   0,   0,   0,   0,   0,   0,   0,\n",
       "          0,   0],\n",
       "       [  0,   0,   0,   0,   0,   0,   0,   0,   0,   0,   0,   0,   0,\n",
       "          0,   0,   0,   0,   0,   0,   0,   0,   0,   0,   0,   0,   0,\n",
       "          0,   0],\n",
       "       [  0,   0,   0,   0,   0,   0,   0,   0,   0,   0,   0,   0,   0,\n",
       "          0,   0,   0,   0,   0,   0,   0,   0,   0,   0,   0,   0,   0,\n",
       "          0,   0],\n",
       "       [  0,   0,   0,   0,   0,   0,   0,   0,   0,   0,   0,   0,   0,\n",
       "          0,   0,   0,   0,   0,   0,   0,   0,   0,   0,   0,   0,   0,\n",
       "          0,   0],\n",
       "       [  0,   0,   0,   0,   0,   0,   0,   0,   0,   0,   0,   0,   0,\n",
       "          0,   0,   0,   0,   0,   0,   0,   0,   0,   0,   0,   0,   0,\n",
       "          0,   0],\n",
       "       [  0,   0,   0,   0,   0,   0,   0,   0,   0,   0,   0,   0,   3,\n",
       "         18,  18,  18, 126, 136, 175,  26, 166, 255, 247, 127,   0,   0,\n",
       "          0,   0],\n",
       "       [  0,   0,   0,   0,   0,   0,   0,   0,  30,  36,  94, 154, 170,\n",
       "        253, 253, 253, 253, 253, 225, 172, 253, 242, 195,  64,   0,   0,\n",
       "          0,   0],\n",
       "       [  0,   0,   0,   0,   0,   0,   0,  49, 238, 253, 253, 253, 253,\n",
       "        253, 253, 253, 253, 251,  93,  82,  82,  56,  39,   0,   0,   0,\n",
       "          0,   0],\n",
       "       [  0,   0,   0,   0,   0,   0,   0,  18, 219, 253, 253, 253, 253,\n",
       "        253, 198, 182, 247, 241,   0,   0,   0,   0,   0,   0,   0,   0,\n",
       "          0,   0],\n",
       "       [  0,   0,   0,   0,   0,   0,   0,   0,  80, 156, 107, 253, 253,\n",
       "        205,  11,   0,  43, 154,   0,   0,   0,   0,   0,   0,   0,   0,\n",
       "          0,   0],\n",
       "       [  0,   0,   0,   0,   0,   0,   0,   0,   0,  14,   1, 154, 253,\n",
       "         90,   0,   0,   0,   0,   0,   0,   0,   0,   0,   0,   0,   0,\n",
       "          0,   0],\n",
       "       [  0,   0,   0,   0,   0,   0,   0,   0,   0,   0,   0, 139, 253,\n",
       "        190,   2,   0,   0,   0,   0,   0,   0,   0,   0,   0,   0,   0,\n",
       "          0,   0],\n",
       "       [  0,   0,   0,   0,   0,   0,   0,   0,   0,   0,   0,  11, 190,\n",
       "        253,  70,   0,   0,   0,   0,   0,   0,   0,   0,   0,   0,   0,\n",
       "          0,   0],\n",
       "       [  0,   0,   0,   0,   0,   0,   0,   0,   0,   0,   0,   0,  35,\n",
       "        241, 225, 160, 108,   1,   0,   0,   0,   0,   0,   0,   0,   0,\n",
       "          0,   0],\n",
       "       [  0,   0,   0,   0,   0,   0,   0,   0,   0,   0,   0,   0,   0,\n",
       "         81, 240, 253, 253, 119,  25,   0,   0,   0,   0,   0,   0,   0,\n",
       "          0,   0],\n",
       "       [  0,   0,   0,   0,   0,   0,   0,   0,   0,   0,   0,   0,   0,\n",
       "          0,  45, 186, 253, 253, 150,  27,   0,   0,   0,   0,   0,   0,\n",
       "          0,   0],\n",
       "       [  0,   0,   0,   0,   0,   0,   0,   0,   0,   0,   0,   0,   0,\n",
       "          0,   0,  16,  93, 252, 253, 187,   0,   0,   0,   0,   0,   0,\n",
       "          0,   0],\n",
       "       [  0,   0,   0,   0,   0,   0,   0,   0,   0,   0,   0,   0,   0,\n",
       "          0,   0,   0,   0, 249, 253, 249,  64,   0,   0,   0,   0,   0,\n",
       "          0,   0],\n",
       "       [  0,   0,   0,   0,   0,   0,   0,   0,   0,   0,   0,   0,   0,\n",
       "          0,  46, 130, 183, 253, 253, 207,   2,   0,   0,   0,   0,   0,\n",
       "          0,   0],\n",
       "       [  0,   0,   0,   0,   0,   0,   0,   0,   0,   0,   0,   0,  39,\n",
       "        148, 229, 253, 253, 253, 250, 182,   0,   0,   0,   0,   0,   0,\n",
       "          0,   0],\n",
       "       [  0,   0,   0,   0,   0,   0,   0,   0,   0,   0,  24, 114, 221,\n",
       "        253, 253, 253, 253, 201,  78,   0,   0,   0,   0,   0,   0,   0,\n",
       "          0,   0],\n",
       "       [  0,   0,   0,   0,   0,   0,   0,   0,  23,  66, 213, 253, 253,\n",
       "        253, 253, 198,  81,   2,   0,   0,   0,   0,   0,   0,   0,   0,\n",
       "          0,   0],\n",
       "       [  0,   0,   0,   0,   0,   0,  18, 171, 219, 253, 253, 253, 253,\n",
       "        195,  80,   9,   0,   0,   0,   0,   0,   0,   0,   0,   0,   0,\n",
       "          0,   0],\n",
       "       [  0,   0,   0,   0,  55, 172, 226, 253, 253, 253, 253, 244, 133,\n",
       "         11,   0,   0,   0,   0,   0,   0,   0,   0,   0,   0,   0,   0,\n",
       "          0,   0],\n",
       "       [  0,   0,   0,   0, 136, 253, 253, 253, 212, 135, 132,  16,   0,\n",
       "          0,   0,   0,   0,   0,   0,   0,   0,   0,   0,   0,   0,   0,\n",
       "          0,   0],\n",
       "       [  0,   0,   0,   0,   0,   0,   0,   0,   0,   0,   0,   0,   0,\n",
       "          0,   0,   0,   0,   0,   0,   0,   0,   0,   0,   0,   0,   0,\n",
       "          0,   0],\n",
       "       [  0,   0,   0,   0,   0,   0,   0,   0,   0,   0,   0,   0,   0,\n",
       "          0,   0,   0,   0,   0,   0,   0,   0,   0,   0,   0,   0,   0,\n",
       "          0,   0],\n",
       "       [  0,   0,   0,   0,   0,   0,   0,   0,   0,   0,   0,   0,   0,\n",
       "          0,   0,   0,   0,   0,   0,   0,   0,   0,   0,   0,   0,   0,\n",
       "          0,   0]], dtype=uint8)"
      ]
     },
     "execution_count": 4,
     "metadata": {},
     "output_type": "execute_result"
    }
   ],
   "source": [
    "x_train[0]"
   ]
  },
  {
   "cell_type": "code",
   "execution_count": 5,
   "metadata": {},
   "outputs": [
    {
     "data": {
      "text/plain": [
       "5"
      ]
     },
     "execution_count": 5,
     "metadata": {},
     "output_type": "execute_result"
    }
   ],
   "source": [
    "y_train[0]"
   ]
  },
  {
   "cell_type": "code",
   "execution_count": 6,
   "metadata": {},
   "outputs": [
    {
     "data": {
      "image/png": "[encoded data removed]",
      "text/plain": [
       "<Figure size 432x288 with 1 Axes>"
      ]
     },
     "metadata": {
      "needs_background": "light"
     },
     "output_type": "display_data"
    }
   ],
   "source": [
    "fig = pyplot.figure()\n",
    "ax = fig.add_subplot(1,1,1)\n",
    "imgplot = ax.imshow(x_train[0], cmap=mpl.cm.Greys)\n",
    "imgplot.set_interpolation('nearest')\n",
    "ax.xaxis.set_ticks_position('top')\n",
    "ax.yaxis.set_ticks_position('left')\n",
    "pyplot.show()"
   ]
  },
  {
   "cell_type": "code",
   "execution_count": 7,
   "metadata": {},
   "outputs": [
    {
     "data": {
      "image/png": "[encoded data removed]",
      "text/plain": [
       "<Figure size 432x288 with 9 Axes>"
      ]
     },
     "execution_count": 7,
     "metadata": {},
     "output_type": "execute_result"
    },
    {
     "data": {
      "image/png": "[encoded data removed]",
      "text/plain": [
       "<Figure size 432x288 with 9 Axes>"
      ]
     },
     "metadata": {},
     "output_type": "display_data"
    }
   ],
   "source": [
    "# rapresentation of all digits\n",
    "\n",
    "import matplotlib.pyplot as plt\n",
    "fig = plt.figure()\n",
    "for i in range(9):\n",
    "  plt.subplot(3,3,i+1)\n",
    "  plt.tight_layout()\n",
    "  plt.imshow(x_train[i], cmap='gray', interpolation='none')\n",
    "  plt.title(\"Digit: {}\".format(y_train[i]))\n",
    "  plt.xticks([])\n",
    "  plt.yticks([])\n",
    "fig"
   ]
  },
  {
   "cell_type": "markdown",
   "metadata": {},
   "source": [
    "### Data pre-processing"
   ]
  },
  {
   "cell_type": "markdown",
   "metadata": {},
   "source": [
    "In problemi di classificazione, è opportuno verificare che le classi, in questo caso 10 classi, non siano sbilanciate tra le osservazioni del training set poiché il modello potrebbe subire alcune complicazioni. \n",
    "\n",
    "Analizziamo, quindi, con quale frequenza si presenta ogni singola classe nel train set. "
   ]
  },
  {
   "cell_type": "code",
   "execution_count": 8,
   "metadata": {},
   "outputs": [
    {
     "data": {
      "text/plain": [
       "Counter({5: 5421,\n",
       "         0: 5923,\n",
       "         4: 5842,\n",
       "         1: 6742,\n",
       "         9: 5949,\n",
       "         2: 5958,\n",
       "         3: 6131,\n",
       "         6: 5918,\n",
       "         7: 6265,\n",
       "         8: 5851})"
      ]
     },
     "execution_count": 8,
     "metadata": {},
     "output_type": "execute_result"
    }
   ],
   "source": [
    "# verify class balance\n",
    "\n",
    "Counter(y_train)"
   ]
  },
  {
   "cell_type": "markdown",
   "metadata": {},
   "source": [
    "Dall'analisi si evince che le classi sono approssimativamente equi distribuite all'interno del training set. \n",
    "\n",
    "Prima di sviluppare il modello, è necessario effettuare un'attività di pre-processing sulle immagini.\n",
    "\n",
    "Si procede, quindi, con le seguenti attività:\n",
    "- Resizing delle immagini, in modo tale che l'input della rete abbia una dimensione pari a 28X28X1;\n",
    "- Normalizzazione dei valori dei pixel riportandoli in un intervallo tra [0,1] dividendo per 255; \n",
    "- Trasformazione delle etichette in attributi categorici, convertendoli in un vettore booleano di dimensione 10X10 (pari al numero di categorie);\n",
    "- Suddivisione randomica del dataset di addestramento in training e validation, con una proporzione pari rispettivamente al 90% e 10% del dataset totale. Il validation set verrà utilizzato nella fase di validazione del modello sviluppato per valutarne la propria efficacia. \n"
   ]
  },
  {
   "cell_type": "code",
   "execution_count": 9,
   "metadata": {},
   "outputs": [],
   "source": [
    "# resizing (dim 28,28,1)\n",
    "\n",
    "X_train = x_train.reshape((x_train.shape[0], 28, 28, 1))\n",
    "X_test = x_test.reshape((x_test.shape[0], 28, 28, 1))"
   ]
  },
  {
   "cell_type": "code",
   "execution_count": 10,
   "metadata": {},
   "outputs": [
    {
     "name": "stdout",
     "output_type": "stream",
     "text": [
      "X train dim:  (60000, 28, 28, 1)\n",
      "X test dim:  (10000, 28, 28, 1)\n"
     ]
    }
   ],
   "source": [
    "print('X train dim: ', X_train.shape)\n",
    "print('X test dim: ', X_test.shape)"
   ]
  },
  {
   "cell_type": "code",
   "execution_count": 11,
   "metadata": {},
   "outputs": [],
   "source": [
    "# convert from integers to float\n",
    "X_train = X_train.astype(\"float32\")\n",
    "X_test = X_test.astype(\"float32\")\n",
    "\n",
    "# normalize into 0-1\n",
    "X_train /= 255\n",
    "X_test /= 255"
   ]
  },
  {
   "cell_type": "code",
   "execution_count": 12,
   "metadata": {},
   "outputs": [
    {
     "name": "stdout",
     "output_type": "stream",
     "text": [
      "X train dim:  (60000, 28, 28, 1)\n",
      "X test dim:  (10000, 28, 28, 1)\n"
     ]
    }
   ],
   "source": [
    "print('X train dim: ', X_train.shape)\n",
    "print('X test dim: ', X_test.shape)"
   ]
  },
  {
   "cell_type": "code",
   "execution_count": 13,
   "metadata": {},
   "outputs": [
    {
     "name": "stdout",
     "output_type": "stream",
     "text": [
      "Y train dim:  (60000, 10)\n",
      "Y test dim:  (10000, 10)\n"
     ]
    }
   ],
   "source": [
    "# convert class vectors to binary class matrices\n",
    "\n",
    "Y_train = np_utils.to_categorical(y_train, 10)\n",
    "Y_test = np_utils.to_categorical(y_test, 10)\n",
    "\n",
    "print('Y train dim: ', Y_train.shape)\n",
    "print('Y test dim: ', Y_test.shape)"
   ]
  },
  {
   "cell_type": "code",
   "execution_count": 14,
   "metadata": {},
   "outputs": [],
   "source": [
    "# splitting train set into train-validation set\n",
    "\n",
    "XX_train, XX_val, YY_train, YY_val = train_test_split(X_train, Y_train, test_size = 0.1, random_state = 123)"
   ]
  },
  {
   "cell_type": "code",
   "execution_count": 15,
   "metadata": {},
   "outputs": [
    {
     "name": "stdout",
     "output_type": "stream",
     "text": [
      "X train dim:  (54000, 28, 28, 1)\n",
      "X val dim:  (6000, 28, 28, 1)\n",
      "Y train dim:  (54000, 10)\n",
      "Y val dim:  (6000, 10)\n"
     ]
    }
   ],
   "source": [
    "print('X train dim: ', XX_train.shape)\n",
    "print('X val dim: ', XX_val.shape)\n",
    "print('Y train dim: ', YY_train.shape)\n",
    "print('Y val dim: ', YY_val.shape)"
   ]
  },
  {
   "cell_type": "markdown",
   "metadata": {},
   "source": [
    "### Model building"
   ]
  },
  {
   "cell_type": "markdown",
   "metadata": {},
   "source": [
    "Questa fase consiste nella vera e propria costruzione di una *Convutional Neural Network* che permetta di classificare le immagini presenti nel test set fornito. \n",
    "\n",
    "Una volta sistemati i dati, è necessario definire un'architettura del modello da costruire e, ove necessario, scegliere parametri, ottimizzatori, funzione di perdita, etc. \n",
    "\n",
    "L'architettura sviluppata consiste in due layer convoluzionali seguiti da un layer di pooling, un layer fully-connected e un softmax layer. Per quanto riguarda il layer di Pooling, esso ha la funzione di filtrare l'input che assume, ovvero sotto-campionare le immagini riducendo la loro dimensionalità. Questo permette di ridurre l'over-fitting e lo sforzo computazionale del modello.\n",
    "\n",
    "Per aggiungere, successivamente al Pooling, i layer fully-connected, è necessario aggiungere un Flatten, poiché essi necessitano di un input unidimensionale e quest'ultimo permette di ridurre la dimensionalità degli oggetti in input. \n",
    "\n",
    "Infine, sono stati inseriti due layer di dropout per regolarizzare il modello e ridurre il problema dell'over-fitting poiché c'è il rischio che le il modello si \"sovradatta\" ai dati di training ma non mantenga le proprie prestazioni ottime su dati non visionati. I layer di dropout permettono di \"spegnere\" randomicamente dei neuroni con una probabilità pari al parametro inserito.\n"
   ]
  },
  {
   "cell_type": "code",
   "execution_count": 16,
   "metadata": {},
   "outputs": [],
   "source": [
    "# model building\n",
    "model = Sequential()\n",
    "model.add(Conv2D(32, kernel_size=(3, 3),\n",
    "                 activation='relu',\n",
    "                 input_shape=(28,28,1)))\n",
    "model.add(Conv2D(64, (3, 3), activation='relu'))\n",
    "model.add(MaxPooling2D(pool_size=(2, 2)))\n",
    "model.add(Dropout(0.25))\n",
    "model.add(Flatten()) \n",
    "model.add(Dense(128, activation='relu'))\n",
    "model.add(Dropout(0.5))\n",
    "model.add(Dense(10, activation='softmax'))"
   ]
  },
  {
   "cell_type": "markdown",
   "metadata": {},
   "source": [
    "Dopo aver definito l'architettura del modello, esso viene compilato utilizzando specifiche funzioni di perdita e ottimizzatori. \n",
    "In questo caso, per quanto riguarda la funzione di perdita è stata utilizzata la *Categorical Crossentropy* in quanto il problema in questione è un problema di classificazione multi-classe. Questa funzione di loss confronta la distribuzione dei valori previsti del modello con la distribuzione dei valori originali. Richiede, però, che i valori siano espressi tramite un one-hot encoding, L’obiettivo è quello di minimizzare la funzione di perdita durante la stima dei parametri W e b.\n",
    "\n",
    "Per l'ottimizzazione dei parametri del modello, invece, è stato utilizzato Adam, un algoritmo di ottimizzazione basato sul gradienti del prim’ordine e su stime adattive dei momenti di ordine inferiore. Questo tipo di ottimizatore può essere utilizzato e può dare prestazioni buone in caso di problemi non stazionari con gradienti rumorosi o sparsi. In particolare, è stato specificato un learning rate pari a 0.001. "
   ]
  },
  {
   "cell_type": "code",
   "execution_count": 17,
   "metadata": {},
   "outputs": [],
   "source": [
    "model.compile(loss = 'categorical_crossentropy',\n",
    "              optimizer = Adam (lr = 1e-3),\n",
    "              metrics=['accuracy'])"
   ]
  },
  {
   "cell_type": "code",
   "execution_count": 18,
   "metadata": {},
   "outputs": [
    {
     "name": "stdout",
     "output_type": "stream",
     "text": [
      "Model: \"sequential_1\"\n",
      "_________________________________________________________________\n",
      "Layer (type)                 Output Shape              Param #   \n",
      "=================================================================\n",
      "conv2d_1 (Conv2D)            (None, 26, 26, 32)        320       \n",
      "_________________________________________________________________\n",
      "conv2d_2 (Conv2D)            (None, 24, 24, 64)        18496     \n",
      "_________________________________________________________________\n",
      "max_pooling2d_1 (MaxPooling2 (None, 12, 12, 64)        0         \n",
      "_________________________________________________________________\n",
      "dropout_1 (Dropout)          (None, 12, 12, 64)        0         \n",
      "_________________________________________________________________\n",
      "flatten_1 (Flatten)          (None, 9216)              0         \n",
      "_________________________________________________________________\n",
      "dense_1 (Dense)              (None, 128)               1179776   \n",
      "_________________________________________________________________\n",
      "dropout_2 (Dropout)          (None, 128)               0         \n",
      "_________________________________________________________________\n",
      "dense_2 (Dense)              (None, 10)                1290      \n",
      "=================================================================\n",
      "Total params: 1,199,882\n",
      "Trainable params: 1,199,882\n",
      "Non-trainable params: 0\n",
      "_________________________________________________________________\n"
     ]
    }
   ],
   "source": [
    "model.summary()"
   ]
  },
  {
   "cell_type": "markdown",
   "metadata": {},
   "source": [
    "### Model application"
   ]
  },
  {
   "cell_type": "markdown",
   "metadata": {},
   "source": [
    "Il modello è stato allenato sul training set utilizzando dei mini batch di dimensione 128, iterando per 10 epoche. Inoltre, è stato applicato utilizzando l'*early stopping*, un criterio secondo il quale se all’aumentare del numero di epoche il modello non migliora, l’iterazione si blocca.\n",
    "In questo caso è stato scelto di monitorare il valore della funzione di loss calcolata sul validation test ed è stato implementato un\n",
    "early stopping secondo il quale se la funzione di loss non dovesse scendere dopo 2 epoche dalla migliore, il modello si blocca. In questo caso il modello migliore si ottiene dopo 6 epoche in quanto all' ottava epoca la loss non si era ancora abbassata."
   ]
  },
  {
   "cell_type": "code",
   "execution_count": 19,
   "metadata": {},
   "outputs": [
    {
     "name": "stdout",
     "output_type": "stream",
     "text": [
      "Train on 54000 samples, validate on 6000 samples\n",
      "Epoch 1/10\n",
      "54000/54000 [==============================] - 84s 2ms/step - loss: 0.2592 - accuracy: 0.9213 - val_loss: 0.0618 - val_accuracy: 0.9805\n",
      "Epoch 2/10\n",
      "54000/54000 [==============================] - 87s 2ms/step - loss: 0.0893 - accuracy: 0.9733 - val_loss: 0.0443 - val_accuracy: 0.9860\n",
      "Epoch 3/10\n",
      "54000/54000 [==============================] - 87s 2ms/step - loss: 0.0680 - accuracy: 0.9791 - val_loss: 0.0364 - val_accuracy: 0.9887\n",
      "Epoch 4/10\n",
      "54000/54000 [==============================] - 86s 2ms/step - loss: 0.0558 - accuracy: 0.9832 - val_loss: 0.0361 - val_accuracy: 0.9885\n",
      "Epoch 5/10\n",
      "54000/54000 [==============================] - 86s 2ms/step - loss: 0.0458 - accuracy: 0.9853 - val_loss: 0.0379 - val_accuracy: 0.9878\n",
      "Epoch 6/10\n",
      "54000/54000 [==============================] - 86s 2ms/step - loss: 0.0403 - accuracy: 0.9875 - val_loss: 0.0339 - val_accuracy: 0.9907\n",
      "Epoch 7/10\n",
      "54000/54000 [==============================] - 86s 2ms/step - loss: 0.0359 - accuracy: 0.9889 - val_loss: 0.0372 - val_accuracy: 0.9900\n",
      "Epoch 8/10\n",
      "54000/54000 [==============================] - 86s 2ms/step - loss: 0.0321 - accuracy: 0.9898 - val_loss: 0.0365 - val_accuracy: 0.9897\n",
      "Epoch 00008: early stopping\n",
      "6000/6000 [==============================] - 2s 413us/step\n",
      "validation loss, validation acc: [0.03653690163884312, 0.9896666407585144]\n"
     ]
    }
   ],
   "source": [
    "batch_size = 128\n",
    "num_epoch = 10\n",
    "\n",
    "# model training with early stopping\n",
    "fBestModel = 'best_model.h5' \n",
    "early_stop = EarlyStopping(monitor='val_loss', patience=2, verbose=1) \n",
    "best_model = ModelCheckpoint(fBestModel, verbose=0, save_best_only=True)\n",
    "\n",
    "model_log = model.fit(XX_train, YY_train, validation_data = (XX_val, YY_val), epochs=num_epoch, \n",
    "          batch_size=batch_size, verbose=True, callbacks=[best_model, early_stop]) \n",
    "\n",
    "score = model.evaluate(XX_val, YY_val, batch_size=batch_size) #evaluating the models accuracy or loss,\n",
    "print('validation loss, validation acc:', score)"
   ]
  },
  {
   "cell_type": "markdown",
   "metadata": {},
   "source": [
    "### Model evaluation"
   ]
  },
  {
   "cell_type": "markdown",
   "metadata": {},
   "source": [
    "In conclusione, viene valutato il modello secondo l'accuracy e la loss da esso ottenuta. L'obiettivo è minimizzare la loss e ottenere un valore dell'accuracy prossimo a 1. "
   ]
  },
  {
   "cell_type": "code",
   "execution_count": 20,
   "metadata": {},
   "outputs": [
    {
     "name": "stdout",
     "output_type": "stream",
     "text": [
      "Validation loss: 0.0365369033259376\n",
      "Validation accuracy: 0.9896666407585144\n"
     ]
    }
   ],
   "source": [
    "# scoring\n",
    "\n",
    "score = model.evaluate(XX_val, YY_val, verbose=0)\n",
    "print('Validation loss:', score[0])\n",
    "print('Validation accuracy:', score[1])"
   ]
  },
  {
   "cell_type": "markdown",
   "metadata": {},
   "source": [
    "Dalle misure di loss e accuracy si evince che la rete convoluzionale sviluppata ottiene performance piuttosto soddisfacenti anche sul validation set, ovvero su dati non visionati. \n",
    "\n",
    "Di seguito viene visualizzato l'andamento della funzione di loss e dell'accuracy durante le 10 epoche di iterazione del modello. "
   ]
  },
  {
   "cell_type": "code",
   "execution_count": 21,
   "metadata": {},
   "outputs": [
    {
     "data": {
      "image/png": "[encoded data removed]",
      "text/plain": [
       "<Figure size 432x288 with 1 Axes>"
      ]
     },
     "metadata": {
      "needs_background": "light"
     },
     "output_type": "display_data"
    }
   ],
   "source": [
    "# loss function\n",
    "\n",
    "plt.plot(model_log.history['loss'])\n",
    "plt.plot(model_log.history['val_loss'])\n",
    "plt.title('model train vs validation loss')\n",
    "plt.ylabel('loss')\n",
    "plt.xlabel('epoch')\n",
    "plt.legend(['train', 'validation'], loc='upper right')\n",
    "\n",
    "plt.show()"
   ]
  },
  {
   "cell_type": "code",
   "execution_count": 22,
   "metadata": {},
   "outputs": [
    {
     "data": {
      "image/png": "[encoded data removed]",
      "text/plain": [
       "<Figure size 432x288 with 1 Axes>"
      ]
     },
     "metadata": {
      "needs_background": "light"
     },
     "output_type": "display_data"
    }
   ],
   "source": [
    "# accuracy\n",
    "\n",
    "plt.plot(model_log.history['accuracy'])\n",
    "plt.plot(model_log.history['val_accuracy'])\n",
    "plt.title('model train vs validation accuracy')\n",
    "plt.ylabel('accuracy')\n",
    "plt.xlabel('epoch')\n",
    "plt.legend(['train', 'validation'], loc='lower right')\n",
    "\n",
    "plt.show()"
   ]
  },
  {
   "cell_type": "markdown",
   "metadata": {},
   "source": [
    "Anche da queste visualizzazioni si evince che le performance del modello sono piuttosto soddisfacenti in quanto l'andamento della loss tende a 0 e quello dell'accuracy tende a 1, anche se sono presenti alcuni piccolissimi picchi negativi. \n",
    "\n",
    "Dai grafici, inoltre, si può notare che non si presenta in maniera evidente il problema dell'over-fitting in quanto il modello fitta bene sia sui dati di training che su quelli di test."
   ]
  },
  {
   "cell_type": "markdown",
   "metadata": {},
   "source": [
    "### Prediction"
   ]
  },
  {
   "cell_type": "markdown",
   "metadata": {},
   "source": [
    "Infine, il modello sviluppato viene applicato al test set per prevedere le etichette dei 10.000 record presenti. \n"
   ]
  },
  {
   "cell_type": "code",
   "execution_count": 23,
   "metadata": {},
   "outputs": [
    {
     "data": {
      "text/plain": [
       "7"
      ]
     },
     "execution_count": 23,
     "metadata": {},
     "output_type": "execute_result"
    }
   ],
   "source": [
    "# test predictions\n",
    "\n",
    "test_predictions = model.predict(X_test).argmax(1)\n",
    "test_predictions[0]"
   ]
  },
  {
   "cell_type": "markdown",
   "metadata": {},
   "source": [
    "Il modello prevede, ad esempio, che il primo elemento del test set sia un 7."
   ]
  },
  {
   "cell_type": "code",
   "execution_count": 24,
   "metadata": {},
   "outputs": [],
   "source": [
    "# saving file of predictions \n",
    "\n",
    "np.savetxt(r'Desktop/Federica_Fiorentini_807124_Ass3.txt', test_predictions, fmt='%d')"
   ]
  }
 ],
 "metadata": {
  "kernelspec": {
   "display_name": "Python 3",
   "language": "python",
   "name": "python3"
  },
  "language_info": {
   "codemirror_mode": {
    "name": "ipython",
    "version": 3
   },
   "file_extension": ".py",
   "mimetype": "text/x-python",
   "name": "python",
   "nbconvert_exporter": "python",
   "pygments_lexer": "ipython3",
   "version": "3.7.4"
  }
 },
 "nbformat": 4,
 "nbformat_minor": 2
}
