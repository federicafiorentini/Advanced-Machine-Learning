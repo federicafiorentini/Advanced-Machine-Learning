{
 "cells": [
  {
   "cell_type": "markdown",
   "metadata": {},
   "source": [
    "# Assignment 2\n",
    "## Letter's images prediction\n",
    "### Federica Fiorentini 807124"
   ]
  },
  {
   "cell_type": "code",
   "execution_count": 2,
   "metadata": {},
   "outputs": [],
   "source": [
    "#libraries import\n",
    "import pickle \n",
    "\n",
    "import numpy as np\n",
    "\n",
    "import sklearn\n",
    "from sklearn.model_selection import train_test_split\n",
    "\n",
    "from keras.models import Sequential, Model\n",
    "from keras.layers import Dense, Activation, Input\n",
    "from keras.layers.core import Dropout\n",
    "from keras.callbacks import EarlyStopping, ModelCheckpoint\n",
    "from keras.optimizers import SGD\n",
    "#from keras.layers import Input, Dense\n",
    "#from keras.models import Model\n",
    "\n",
    "import matplotlib.pyplot as plt\n",
    "import matplotlib as mpl\n",
    "from matplotlib import pyplot\n",
    "%matplotlib inline\n"
   ]
  },
  {
   "cell_type": "code",
   "execution_count": 3,
   "metadata": {},
   "outputs": [],
   "source": [
    "#file import\n",
    "x_train = pickle.load(open(r\"C:\\Users\\FedericaFiorentini\\Desktop\\Università\\2Anno\\Advanced ML\\Esercitazioni\\2Assignment\\x_train.obj\",\"rb\"))\n",
    "x_test = pickle.load(open(r\"C:\\Users\\FedericaFiorentini\\Desktop\\Università\\2Anno\\Advanced ML\\Esercitazioni\\2Assignment\\x_test.obj\",\"rb\"))\n",
    "y_train = pickle.load(open(r\"C:\\Users\\FedericaFiorentini\\Desktop\\Università\\2Anno\\Advanced ML\\Esercitazioni\\2Assignment\\y_train.obj\",\"rb\"))"
   ]
  },
  {
   "cell_type": "markdown",
   "metadata": {},
   "source": [
    "### Data exploration and preprocessing"
   ]
  },
  {
   "cell_type": "code",
   "execution_count": 4,
   "metadata": {},
   "outputs": [
    {
     "data": {
      "image/png": "[encoded data removed]",
      "text/plain": [
       "<Figure size 1440x288 with 10 Axes>"
      ]
     },
     "metadata": {
      "needs_background": "light"
     },
     "output_type": "display_data"
    }
   ],
   "source": [
    "fig = pyplot.figure(figsize = (20,4))\n",
    "for i in range(0,10):\n",
    "    ax = fig.add_subplot(1,10,i+1)\n",
    "    imgplot = ax.imshow(x_train[i], cmap=mpl.cm.Greys)\n",
    "    imgplot.set_interpolation('nearest')\n",
    "    ax.xaxis.set_ticks_position('top')\n",
    "    ax.yaxis.set_ticks_position('left')\n",
    "pyplot.show()"
   ]
  },
  {
   "cell_type": "code",
   "execution_count": 5,
   "metadata": {},
   "outputs": [
    {
     "name": "stdout",
     "output_type": "stream",
     "text": [
      "x train dim:  (14000, 28, 28)\n",
      "x test dim:  (8800, 28, 28)\n",
      "y train dim:  (14000,)\n"
     ]
    }
   ],
   "source": [
    "print('x train dim: ', x_train.shape)\n",
    "print('x test dim: ', x_test.shape)\n",
    "print('y train dim: ', y_train.shape)\n"
   ]
  },
  {
   "cell_type": "code",
   "execution_count": 6,
   "metadata": {},
   "outputs": [
    {
     "data": {
      "text/plain": [
       "array([16, 17, 18, 19, 20, 21, 22, 23, 24, 25, 26], dtype=uint8)"
      ]
     },
     "execution_count": 6,
     "metadata": {},
     "output_type": "execute_result"
    }
   ],
   "source": [
    "np.unique(y_train)"
   ]
  },
  {
   "cell_type": "code",
   "execution_count": 7,
   "metadata": {},
   "outputs": [
    {
     "name": "stdout",
     "output_type": "stream",
     "text": [
      "(14000, 11)\n",
      "[0 0 0 0 0 0 0 0 0 0 1]\n"
     ]
    }
   ],
   "source": [
    "binarizer = sklearn.preprocessing.LabelBinarizer()\n",
    "\n",
    "n_class = np.unique(y_train)\n",
    "binarizer.fit(n_class)\n",
    "y_train_bin = binarizer.transform(y_train)\n",
    "\n",
    "print(y_train_bin.shape)\n",
    "print(y_train_bin[5])"
   ]
  },
  {
   "cell_type": "code",
   "execution_count": 8,
   "metadata": {},
   "outputs": [],
   "source": [
    "xx_train = x_train.reshape(14000, 784)\n",
    "xx_test = x_test.reshape(8800, 784)\n",
    "xx_train = xx_train.astype(\"float32\")\n",
    "xx_test = xx_test.astype(\"float32\")\n",
    "\n",
    "xx_train /= 255\n",
    "xx_test /= 255"
   ]
  },
  {
   "cell_type": "code",
   "execution_count": 9,
   "metadata": {},
   "outputs": [],
   "source": [
    "XX_train, XX_val, YY_train, YY_val = train_test_split(xx_train, y_train_bin, test_size=0.1, random_state=0)"
   ]
  },
  {
   "cell_type": "code",
   "execution_count": 10,
   "metadata": {
    "scrolled": true
   },
   "outputs": [
    {
     "name": "stdout",
     "output_type": "stream",
     "text": [
      "x train dim:  (12600, 784)\n",
      "x val dim:  (1400, 784)\n",
      "y train dim:  (12600, 11)\n",
      "y val dim:  (1400, 11)\n"
     ]
    }
   ],
   "source": [
    "print(\"x train dim: \" , XX_train.shape)\n",
    "print(\"x val dim: \", XX_val.shape)\n",
    "print(\"y train dim: \", YY_train.shape)\n",
    "print(\"y val dim: \", YY_val.shape)"
   ]
  },
  {
   "cell_type": "code",
   "execution_count": 11,
   "metadata": {},
   "outputs": [],
   "source": [
    "#plt.imshow(XX_train[3].reshape(28, 28))"
   ]
  },
  {
   "cell_type": "markdown",
   "metadata": {},
   "source": [
    "### Data modelling\n",
    "\n",
    "#### Neural Network"
   ]
  },
  {
   "cell_type": "code",
   "execution_count": 12,
   "metadata": {},
   "outputs": [],
   "source": [
    "n_epochs = 100\n",
    "batch_size = 100\n",
    "\n",
    "model = Sequential()\n",
    "model.add(Dense(1024, activation='relu', input_shape=(784,)))\n",
    "model.add(Dropout(0.5)) #to avoid overfitting\n",
    "model.add(Dense(256, activation='relu'))\n",
    "model.add(Dropout(0.3))\n",
    "model.add(Dense(128, activation='relu'))\n",
    "model.add(Dropout(0.3))\n",
    "model.add(Dense(64, activation='relu'))\n",
    "model.add(Dropout(0.3))\n",
    "model.add(Dense(11, activation='softmax'))\n",
    "\n",
    "model.compile(optimizer='adam',\n",
    "              loss='categorical_crossentropy',\n",
    "              metrics=['accuracy'])"
   ]
  },
  {
   "cell_type": "code",
   "execution_count": 13,
   "metadata": {},
   "outputs": [
    {
     "name": "stdout",
     "output_type": "stream",
     "text": [
      "Model: \"sequential_1\"\n",
      "_________________________________________________________________\n",
      "Layer (type)                 Output Shape              Param #   \n",
      "=================================================================\n",
      "dense_1 (Dense)              (None, 1024)              803840    \n",
      "_________________________________________________________________\n",
      "dropout_1 (Dropout)          (None, 1024)              0         \n",
      "_________________________________________________________________\n",
      "dense_2 (Dense)              (None, 256)               262400    \n",
      "_________________________________________________________________\n",
      "dropout_2 (Dropout)          (None, 256)               0         \n",
      "_________________________________________________________________\n",
      "dense_3 (Dense)              (None, 128)               32896     \n",
      "_________________________________________________________________\n",
      "dropout_3 (Dropout)          (None, 128)               0         \n",
      "_________________________________________________________________\n",
      "dense_4 (Dense)              (None, 64)                8256      \n",
      "_________________________________________________________________\n",
      "dropout_4 (Dropout)          (None, 64)                0         \n",
      "_________________________________________________________________\n",
      "dense_5 (Dense)              (None, 11)                715       \n",
      "=================================================================\n",
      "Total params: 1,108,107\n",
      "Trainable params: 1,108,107\n",
      "Non-trainable params: 0\n",
      "_________________________________________________________________\n"
     ]
    }
   ],
   "source": [
    "model.summary()"
   ]
  },
  {
   "cell_type": "code",
   "execution_count": 14,
   "metadata": {},
   "outputs": [
    {
     "name": "stdout",
     "output_type": "stream",
     "text": [
      "Train on 12600 samples, validate on 1400 samples\n",
      "Epoch 1/100\n",
      "12600/12600 [==============================] - 5s 404us/step - loss: 1.3614 - accuracy: 0.5372 - val_loss: 0.5834 - val_accuracy: 0.8229\n",
      "Epoch 2/100\n",
      "12600/12600 [==============================] - 4s 350us/step - loss: 0.6810 - accuracy: 0.7933 - val_loss: 0.4304 - val_accuracy: 0.8729\n",
      "Epoch 3/100\n",
      "12600/12600 [==============================] - 5s 362us/step - loss: 0.4988 - accuracy: 0.8539 - val_loss: 0.3290 - val_accuracy: 0.9050\n",
      "Epoch 4/100\n",
      "12600/12600 [==============================] - 4s 357us/step - loss: 0.4049 - accuracy: 0.8843 - val_loss: 0.3136 - val_accuracy: 0.9114\n",
      "Epoch 5/100\n",
      "12600/12600 [==============================] - 5s 360us/step - loss: 0.3562 - accuracy: 0.9002 - val_loss: 0.2826 - val_accuracy: 0.9179\n",
      "Epoch 6/100\n",
      "12600/12600 [==============================] - 5s 360us/step - loss: 0.3180 - accuracy: 0.9106 - val_loss: 0.2858 - val_accuracy: 0.9214\n",
      "Epoch 7/100\n",
      "12600/12600 [==============================] - 5s 364us/step - loss: 0.2871 - accuracy: 0.9175 - val_loss: 0.2563 - val_accuracy: 0.9314\n",
      "Epoch 8/100\n",
      "12600/12600 [==============================] - 5s 359us/step - loss: 0.2589 - accuracy: 0.9239 - val_loss: 0.2564 - val_accuracy: 0.9329\n",
      "Epoch 9/100\n",
      "12600/12600 [==============================] - 5s 361us/step - loss: 0.2453 - accuracy: 0.9325 - val_loss: 0.2259 - val_accuracy: 0.9414\n",
      "Epoch 10/100\n",
      "12600/12600 [==============================] - 5s 369us/step - loss: 0.2220 - accuracy: 0.9373 - val_loss: 0.2295 - val_accuracy: 0.9421\n",
      "Epoch 11/100\n",
      "12600/12600 [==============================] - 4s 355us/step - loss: 0.2098 - accuracy: 0.9404 - val_loss: 0.2452 - val_accuracy: 0.9321\n",
      "Epoch 12/100\n",
      "12600/12600 [==============================] - 4s 356us/step - loss: 0.1946 - accuracy: 0.9444 - val_loss: 0.2401 - val_accuracy: 0.9343\n",
      "Epoch 13/100\n",
      "12600/12600 [==============================] - 4s 355us/step - loss: 0.1837 - accuracy: 0.9487 - val_loss: 0.2479 - val_accuracy: 0.9314\n",
      "Epoch 14/100\n",
      "12600/12600 [==============================] - 4s 356us/step - loss: 0.1897 - accuracy: 0.9460 - val_loss: 0.2423 - val_accuracy: 0.9286\n",
      "Epoch 15/100\n",
      "12600/12600 [==============================] - 4s 357us/step - loss: 0.1792 - accuracy: 0.9490 - val_loss: 0.2396 - val_accuracy: 0.9357\n",
      "Epoch 16/100\n",
      "12600/12600 [==============================] - 4s 356us/step - loss: 0.1611 - accuracy: 0.9525 - val_loss: 0.2337 - val_accuracy: 0.9436\n",
      "Epoch 17/100\n",
      "12600/12600 [==============================] - 4s 356us/step - loss: 0.1550 - accuracy: 0.9537 - val_loss: 0.2438 - val_accuracy: 0.9371\n",
      "Epoch 18/100\n",
      "12600/12600 [==============================] - 4s 354us/step - loss: 0.1547 - accuracy: 0.9555 - val_loss: 0.2251 - val_accuracy: 0.9414\n",
      "Epoch 19/100\n",
      "12600/12600 [==============================] - 5s 359us/step - loss: 0.1580 - accuracy: 0.9543 - val_loss: 0.2417 - val_accuracy: 0.9414\n",
      "Epoch 20/100\n",
      "12600/12600 [==============================] - 4s 352us/step - loss: 0.1418 - accuracy: 0.9584 - val_loss: 0.2198 - val_accuracy: 0.9471\n",
      "Epoch 21/100\n",
      "12600/12600 [==============================] - 5s 358us/step - loss: 0.1360 - accuracy: 0.9622 - val_loss: 0.2532 - val_accuracy: 0.9457\n",
      "Epoch 22/100\n",
      "12600/12600 [==============================] - 5s 365us/step - loss: 0.1281 - accuracy: 0.9621 - val_loss: 0.2414 - val_accuracy: 0.9407\n",
      "Epoch 23/100\n",
      "12600/12600 [==============================] - 5s 362us/step - loss: 0.1220 - accuracy: 0.9652 - val_loss: 0.2424 - val_accuracy: 0.9486\n",
      "Epoch 24/100\n",
      "12600/12600 [==============================] - 5s 367us/step - loss: 0.1270 - accuracy: 0.9631 - val_loss: 0.2487 - val_accuracy: 0.9386\n",
      "Epoch 25/100\n",
      "12600/12600 [==============================] - 5s 363us/step - loss: 0.1163 - accuracy: 0.9638 - val_loss: 0.2287 - val_accuracy: 0.9471\n",
      "Epoch 26/100\n",
      "12600/12600 [==============================] - 5s 360us/step - loss: 0.1151 - accuracy: 0.9664 - val_loss: 0.2440 - val_accuracy: 0.9464\n",
      "Epoch 27/100\n",
      "12600/12600 [==============================] - 5s 358us/step - loss: 0.1132 - accuracy: 0.9663 - val_loss: 0.2501 - val_accuracy: 0.9436\n",
      "Epoch 28/100\n",
      "12600/12600 [==============================] - 5s 359us/step - loss: 0.1110 - accuracy: 0.9676 - val_loss: 0.2392 - val_accuracy: 0.9450\n",
      "Epoch 29/100\n",
      "12600/12600 [==============================] - 5s 365us/step - loss: 0.1080 - accuracy: 0.9702 - val_loss: 0.2457 - val_accuracy: 0.9443\n",
      "Epoch 30/100\n",
      "12600/12600 [==============================] - 5s 366us/step - loss: 0.0924 - accuracy: 0.9714 - val_loss: 0.2592 - val_accuracy: 0.9443\n",
      "Epoch 31/100\n",
      "12600/12600 [==============================] - 5s 362us/step - loss: 0.0989 - accuracy: 0.9707 - val_loss: 0.2644 - val_accuracy: 0.9457\n",
      "Epoch 32/100\n",
      "12600/12600 [==============================] - 5s 369us/step - loss: 0.1092 - accuracy: 0.9686 - val_loss: 0.2978 - val_accuracy: 0.9393\n",
      "Epoch 33/100\n",
      "12600/12600 [==============================] - 5s 364us/step - loss: 0.1011 - accuracy: 0.9696 - val_loss: 0.2638 - val_accuracy: 0.9500\n",
      "Epoch 34/100\n",
      "12600/12600 [==============================] - 5s 362us/step - loss: 0.0969 - accuracy: 0.9710 - val_loss: 0.2414 - val_accuracy: 0.9486\n",
      "Epoch 35/100\n",
      "12600/12600 [==============================] - 5s 363us/step - loss: 0.1007 - accuracy: 0.9707 - val_loss: 0.2531 - val_accuracy: 0.9479\n",
      "Epoch 36/100\n",
      "12600/12600 [==============================] - 4s 355us/step - loss: 0.0971 - accuracy: 0.9727 - val_loss: 0.3026 - val_accuracy: 0.9400\n",
      "Epoch 37/100\n",
      "12600/12600 [==============================] - 4s 357us/step - loss: 0.0855 - accuracy: 0.9744 - val_loss: 0.2759 - val_accuracy: 0.9443\n",
      "Epoch 38/100\n",
      "12600/12600 [==============================] - 4s 357us/step - loss: 0.0830 - accuracy: 0.9760 - val_loss: 0.2843 - val_accuracy: 0.9429\n",
      "Epoch 39/100\n",
      "12600/12600 [==============================] - 5s 365us/step - loss: 0.0733 - accuracy: 0.9780 - val_loss: 0.2647 - val_accuracy: 0.9464\n",
      "Epoch 40/100\n",
      "12600/12600 [==============================] - 5s 362us/step - loss: 0.0867 - accuracy: 0.9742 - val_loss: 0.2606 - val_accuracy: 0.9436\n",
      "Epoch 41/100\n",
      "12600/12600 [==============================] - 4s 343us/step - loss: 0.0855 - accuracy: 0.9733 - val_loss: 0.2841 - val_accuracy: 0.9471\n",
      "Epoch 42/100\n",
      "12600/12600 [==============================] - 4s 352us/step - loss: 0.0776 - accuracy: 0.9765 - val_loss: 0.2844 - val_accuracy: 0.9471\n",
      "Epoch 43/100\n",
      "12600/12600 [==============================] - 4s 338us/step - loss: 0.0834 - accuracy: 0.9750 - val_loss: 0.2747 - val_accuracy: 0.9479\n",
      "Epoch 44/100\n",
      "12600/12600 [==============================] - 4s 326us/step - loss: 0.0773 - accuracy: 0.9769 - val_loss: 0.3057 - val_accuracy: 0.9464\n",
      "Epoch 45/100\n",
      "12600/12600 [==============================] - 4s 340us/step - loss: 0.0840 - accuracy: 0.9758 - val_loss: 0.2812 - val_accuracy: 0.9479\n",
      "Epoch 46/100\n",
      "12600/12600 [==============================] - 4s 353us/step - loss: 0.0736 - accuracy: 0.9778 - val_loss: 0.2873 - val_accuracy: 0.9464\n",
      "Epoch 47/100\n",
      "12600/12600 [==============================] - 4s 332us/step - loss: 0.0842 - accuracy: 0.9747 - val_loss: 0.2895 - val_accuracy: 0.9407\n",
      "Epoch 48/100\n",
      "12600/12600 [==============================] - 4s 340us/step - loss: 0.0657 - accuracy: 0.9790 - val_loss: 0.2998 - val_accuracy: 0.9479\n",
      "Epoch 49/100\n",
      "12600/12600 [==============================] - 4s 348us/step - loss: 0.0742 - accuracy: 0.9794 - val_loss: 0.2876 - val_accuracy: 0.9471\n",
      "Epoch 50/100\n",
      "12600/12600 [==============================] - 4s 353us/step - loss: 0.0694 - accuracy: 0.9787 - val_loss: 0.2873 - val_accuracy: 0.9479\n",
      "Epoch 51/100\n",
      "12600/12600 [==============================] - 5s 358us/step - loss: 0.0713 - accuracy: 0.9790 - val_loss: 0.2844 - val_accuracy: 0.9457\n",
      "Epoch 52/100\n",
      "12600/12600 [==============================] - 5s 364us/step - loss: 0.0646 - accuracy: 0.9807 - val_loss: 0.3084 - val_accuracy: 0.9429\n",
      "Epoch 53/100\n",
      "12600/12600 [==============================] - 5s 362us/step - loss: 0.0609 - accuracy: 0.9798 - val_loss: 0.2791 - val_accuracy: 0.9493\n",
      "Epoch 54/100\n",
      "12600/12600 [==============================] - 5s 361us/step - loss: 0.0711 - accuracy: 0.9790 - val_loss: 0.3187 - val_accuracy: 0.9457\n",
      "Epoch 55/100\n"
     ]
    },
    {
     "name": "stdout",
     "output_type": "stream",
     "text": [
      "12600/12600 [==============================] - 4s 342us/step - loss: 0.0613 - accuracy: 0.9807 - val_loss: 0.3188 - val_accuracy: 0.9486\n",
      "Epoch 56/100\n",
      "12600/12600 [==============================] - 4s 323us/step - loss: 0.0715 - accuracy: 0.9787 - val_loss: 0.2992 - val_accuracy: 0.94860 - accuracy: 0.\n",
      "Epoch 57/100\n",
      "12600/12600 [==============================] - 4s 349us/step - loss: 0.0714 - accuracy: 0.9777 - val_loss: 0.2898 - val_accuracy: 0.9479\n",
      "Epoch 58/100\n",
      "12600/12600 [==============================] - 4s 341us/step - loss: 0.0583 - accuracy: 0.9823 - val_loss: 0.2968 - val_accuracy: 0.9479\n",
      "Epoch 59/100\n",
      "12600/12600 [==============================] - 4s 354us/step - loss: 0.0532 - accuracy: 0.9828 - val_loss: 0.3182 - val_accuracy: 0.9407\n",
      "Epoch 60/100\n",
      "12600/12600 [==============================] - 4s 353us/step - loss: 0.0663 - accuracy: 0.9804 - val_loss: 0.3071 - val_accuracy: 0.9429\n",
      "Epoch 61/100\n",
      "12600/12600 [==============================] - 4s 342us/step - loss: 0.0625 - accuracy: 0.9811 - val_loss: 0.2949 - val_accuracy: 0.9471\n",
      "Epoch 62/100\n",
      "12600/12600 [==============================] - 4s 354us/step - loss: 0.0500 - accuracy: 0.9848 - val_loss: 0.3172 - val_accuracy: 0.9414\n",
      "Epoch 63/100\n",
      "12600/12600 [==============================] - 5s 366us/step - loss: 0.0562 - accuracy: 0.9829 - val_loss: 0.3522 - val_accuracy: 0.9414\n",
      "Epoch 64/100\n",
      "12600/12600 [==============================] - 5s 368us/step - loss: 0.0671 - accuracy: 0.9816 - val_loss: 0.3068 - val_accuracy: 0.9464\n",
      "Epoch 65/100\n",
      "12600/12600 [==============================] - 5s 367us/step - loss: 0.0654 - accuracy: 0.9808 - val_loss: 0.2824 - val_accuracy: 0.9493\n",
      "Epoch 66/100\n",
      "12600/12600 [==============================] - 5s 368us/step - loss: 0.0603 - accuracy: 0.9830 - val_loss: 0.2841 - val_accuracy: 0.9500\n",
      "Epoch 67/100\n",
      "12600/12600 [==============================] - 5s 369us/step - loss: 0.0558 - accuracy: 0.9844 - val_loss: 0.2983 - val_accuracy: 0.9493\n",
      "Epoch 68/100\n",
      "12600/12600 [==============================] - 5s 369us/step - loss: 0.0558 - accuracy: 0.9831 - val_loss: 0.3054 - val_accuracy: 0.9536\n",
      "Epoch 69/100\n",
      "12600/12600 [==============================] - 5s 376us/step - loss: 0.0589 - accuracy: 0.9829 - val_loss: 0.2893 - val_accuracy: 0.9486\n",
      "Epoch 70/100\n",
      "12600/12600 [==============================] - 5s 371us/step - loss: 0.0474 - accuracy: 0.9854 - val_loss: 0.3326 - val_accuracy: 0.9464\n",
      "Epoch 71/100\n",
      "12600/12600 [==============================] - 5s 357us/step - loss: 0.0539 - accuracy: 0.9832 - val_loss: 0.3078 - val_accuracy: 0.9479\n",
      "Epoch 72/100\n",
      "12600/12600 [==============================] - 4s 355us/step - loss: 0.0576 - accuracy: 0.9830 - val_loss: 0.3038 - val_accuracy: 0.9450\n",
      "Epoch 73/100\n",
      "12600/12600 [==============================] - 4s 349us/step - loss: 0.0487 - accuracy: 0.9848 - val_loss: 0.3157 - val_accuracy: 0.9436\n",
      "Epoch 74/100\n",
      "12600/12600 [==============================] - 5s 371us/step - loss: 0.0649 - accuracy: 0.9811 - val_loss: 0.2716 - val_accuracy: 0.9507\n",
      "Epoch 75/100\n",
      "12600/12600 [==============================] - 5s 368us/step - loss: 0.0455 - accuracy: 0.9852 - val_loss: 0.3279 - val_accuracy: 0.9493\n",
      "Epoch 76/100\n",
      "12600/12600 [==============================] - 5s 360us/step - loss: 0.0523 - accuracy: 0.9843 - val_loss: 0.3437 - val_accuracy: 0.9457\n",
      "Epoch 77/100\n",
      "12600/12600 [==============================] - 5s 373us/step - loss: 0.0522 - accuracy: 0.9840 - val_loss: 0.3627 - val_accuracy: 0.9443\n",
      "Epoch 78/100\n",
      "12600/12600 [==============================] - 5s 359us/step - loss: 0.0498 - accuracy: 0.9844 - val_loss: 0.3653 - val_accuracy: 0.9486\n",
      "Epoch 79/100\n",
      "12600/12600 [==============================] - 5s 367us/step - loss: 0.0577 - accuracy: 0.9844 - val_loss: 0.2951 - val_accuracy: 0.9464\n",
      "Epoch 80/100\n",
      "12600/12600 [==============================] - 5s 372us/step - loss: 0.0522 - accuracy: 0.9835 - val_loss: 0.3341 - val_accuracy: 0.9500\n",
      "Epoch 81/100\n",
      "12600/12600 [==============================] - 5s 363us/step - loss: 0.0466 - accuracy: 0.9856 - val_loss: 0.3637 - val_accuracy: 0.9479\n",
      "Epoch 82/100\n",
      "12600/12600 [==============================] - 5s 359us/step - loss: 0.0587 - accuracy: 0.9829 - val_loss: 0.3521 - val_accuracy: 0.9486\n",
      "Epoch 83/100\n",
      "12600/12600 [==============================] - 4s 350us/step - loss: 0.0507 - accuracy: 0.9842 - val_loss: 0.3733 - val_accuracy: 0.9479\n",
      "Epoch 84/100\n",
      "12600/12600 [==============================] - 4s 325us/step - loss: 0.0487 - accuracy: 0.9849 - val_loss: 0.3511 - val_accuracy: 0.9457\n",
      "Epoch 85/100\n",
      "12600/12600 [==============================] - 4s 357us/step - loss: 0.0447 - accuracy: 0.9862 - val_loss: 0.3055 - val_accuracy: 0.9471\n",
      "Epoch 86/100\n",
      "12600/12600 [==============================] - 4s 348us/step - loss: 0.0424 - accuracy: 0.9876 - val_loss: 0.3180 - val_accuracy: 0.9479\n",
      "Epoch 87/100\n",
      "12600/12600 [==============================] - 4s 348us/step - loss: 0.0472 - accuracy: 0.9856 - val_loss: 0.3765 - val_accuracy: 0.9421\n",
      "Epoch 88/100\n",
      "12600/12600 [==============================] - 4s 352us/step - loss: 0.0463 - accuracy: 0.9863 - val_loss: 0.3739 - val_accuracy: 0.9436\n",
      "Epoch 89/100\n",
      "12600/12600 [==============================] - 5s 359us/step - loss: 0.0443 - accuracy: 0.9868 - val_loss: 0.3450 - val_accuracy: 0.9507\n",
      "Epoch 90/100\n",
      "12600/12600 [==============================] - 5s 413us/step - loss: 0.0482 - accuracy: 0.9863 - val_loss: 0.3473 - val_accuracy: 0.9471\n",
      "Epoch 91/100\n",
      "12600/12600 [==============================] - 5s 430us/step - loss: 0.0438 - accuracy: 0.9868 - val_loss: 0.3434 - val_accuracy: 0.9450\n",
      "Epoch 92/100\n",
      "12600/12600 [==============================] - 6s 453us/step - loss: 0.0456 - accuracy: 0.9867 - val_loss: 0.3529 - val_accuracy: 0.9457\n",
      "Epoch 93/100\n",
      "12600/12600 [==============================] - 5s 419us/step - loss: 0.0406 - accuracy: 0.9887 - val_loss: 0.3679 - val_accuracy: 0.9493\n",
      "Epoch 94/100\n",
      "12600/12600 [==============================] - 5s 415us/step - loss: 0.0398 - accuracy: 0.9879 - val_loss: 0.3669 - val_accuracy: 0.9493\n",
      "Epoch 95/100\n",
      "12600/12600 [==============================] - 5s 389us/step - loss: 0.0387 - accuracy: 0.9883 - val_loss: 0.3512 - val_accuracy: 0.9471\n",
      "Epoch 96/100\n",
      "12600/12600 [==============================] - 5s 362us/step - loss: 0.0417 - accuracy: 0.9883 - val_loss: 0.3495 - val_accuracy: 0.9443\n",
      "Epoch 97/100\n",
      "12600/12600 [==============================] - 4s 340us/step - loss: 0.0606 - accuracy: 0.9837 - val_loss: 0.3477 - val_accuracy: 0.9464\n",
      "Epoch 98/100\n",
      "12600/12600 [==============================] - 4s 354us/step - loss: 0.0425 - accuracy: 0.9877 - val_loss: 0.3528 - val_accuracy: 0.9471\n",
      "Epoch 99/100\n",
      "12600/12600 [==============================] - 5s 361us/step - loss: 0.0388 - accuracy: 0.9870 - val_loss: 0.3465 - val_accuracy: 0.9486\n",
      "Epoch 100/100\n",
      "12600/12600 [==============================] - 5s 416us/step - loss: 0.0395 - accuracy: 0.9885 - val_loss: 0.3401 - val_accuracy: 0.9514\n"
     ]
    }
   ],
   "source": [
    "history = model.fit(XX_train, YY_train, epochs = n_epochs, batch_size=batch_size,\n",
    "                             validation_data=(XX_val, YY_val))\n"
   ]
  },
  {
   "cell_type": "code",
   "execution_count": 15,
   "metadata": {},
   "outputs": [
    {
     "data": {
      "image/png": "[encoded data removed]",
      "text/plain": [
       "<Figure size 432x288 with 1 Axes>"
      ]
     },
     "metadata": {
      "needs_background": "light"
     },
     "output_type": "display_data"
    }
   ],
   "source": [
    "plt.plot(history.history['accuracy'])\n",
    "plt.plot(history.history['val_accuracy'])\n",
    "plt.title('model train vs validation accuracy')\n",
    "plt.ylabel('accuracy')\n",
    "plt.xlabel('epoch')\n",
    "plt.legend(['train', 'validation'], loc='upper right')\n",
    "\n",
    "plt.show()"
   ]
  },
  {
   "cell_type": "code",
   "execution_count": 16,
   "metadata": {},
   "outputs": [
    {
     "data": {
      "image/png": "[encoded data removed]",
      "text/plain": [
       "<Figure size 432x288 with 1 Axes>"
      ]
     },
     "metadata": {
      "needs_background": "light"
     },
     "output_type": "display_data"
    }
   ],
   "source": [
    "plt.plot(history.history['loss'])\n",
    "plt.plot(history.history['val_loss'])\n",
    "plt.title('model train vs validation loss')\n",
    "plt.ylabel('loss')\n",
    "plt.xlabel('epoch')\n",
    "plt.legend(['train', 'validation'], loc='upper right')\n",
    "\n",
    "plt.show()"
   ]
  },
  {
   "cell_type": "markdown",
   "metadata": {},
   "source": [
    "#### Neural Network with early stopping"
   ]
  },
  {
   "cell_type": "code",
   "execution_count": 17,
   "metadata": {},
   "outputs": [
    {
     "name": "stdout",
     "output_type": "stream",
     "text": [
      "Train on 12600 samples, validate on 1400 samples\n",
      "Epoch 1/100\n",
      "12600/12600 [==============================] - 5s 357us/step - loss: 0.0595 - accuracy: 0.9849 - val_loss: 0.3470 - val_accuracy: 0.9479\n",
      "Epoch 2/100\n",
      "12600/12600 [==============================] - 5s 367us/step - loss: 0.0405 - accuracy: 0.9877 - val_loss: 0.3895 - val_accuracy: 0.9464\n",
      "Epoch 3/100\n",
      "12600/12600 [==============================] - 5s 360us/step - loss: 0.0492 - accuracy: 0.9870 - val_loss: 0.4036 - val_accuracy: 0.9421\n",
      "Epoch 4/100\n",
      "12600/12600 [==============================] - 4s 357us/step - loss: 0.0385 - accuracy: 0.9901 - val_loss: 0.3749 - val_accuracy: 0.9450\n",
      "Epoch 5/100\n",
      "12600/12600 [==============================] - 5s 374us/step - loss: 0.0353 - accuracy: 0.9892 - val_loss: 0.4294 - val_accuracy: 0.9464\n",
      "Epoch 6/100\n",
      "12600/12600 [==============================] - 5s 391us/step - loss: 0.0362 - accuracy: 0.9890 - val_loss: 0.3830 - val_accuracy: 0.9486\n",
      "Epoch 7/100\n",
      "12600/12600 [==============================] - 5s 403us/step - loss: 0.0399 - accuracy: 0.9880 - val_loss: 0.3892 - val_accuracy: 0.9421\n",
      "Epoch 8/100\n",
      "12600/12600 [==============================] - 5s 413us/step - loss: 0.0444 - accuracy: 0.9876 - val_loss: 0.3473 - val_accuracy: 0.9479\n",
      "Epoch 9/100\n",
      "12600/12600 [==============================] - 5s 394us/step - loss: 0.0392 - accuracy: 0.9880 - val_loss: 0.3787 - val_accuracy: 0.9450\n",
      "Epoch 10/100\n",
      "12600/12600 [==============================] - 5s 401us/step - loss: 0.0291 - accuracy: 0.9917 - val_loss: 0.3602 - val_accuracy: 0.9486\n",
      "Epoch 11/100\n",
      "12600/12600 [==============================] - 5s 395us/step - loss: 0.0367 - accuracy: 0.9883 - val_loss: 0.3943 - val_accuracy: 0.9471\n",
      "Epoch 00011: early stopping\n",
      "1400/1400 [==============================] - 0s 83us/step\n",
      "validation loss, validation acc: [0.3943219195519175, 0.9471428394317627]\n"
     ]
    }
   ],
   "source": [
    "#early stopping\n",
    "n_epochs=100\n",
    "batch_size=100\n",
    "\n",
    "fBestModel = 'best_model.h5' \n",
    "early_stop = EarlyStopping(monitor='val_loss', patience=10, verbose=1) \n",
    "best_model = ModelCheckpoint(fBestModel, verbose=0, save_best_only=True)\n",
    "\n",
    "history_es = model.fit(XX_train, YY_train, validation_data = (XX_val, YY_val), epochs=n_epochs, \n",
    "          batch_size=batch_size, verbose=True, callbacks=[best_model, early_stop]) \n",
    "\n",
    "score = model.evaluate(XX_val, YY_val, batch_size=batch_size) #evaluating the models accuracy or loss,\n",
    "print('validation loss, validation acc:', score)\n",
    "\n"
   ]
  },
  {
   "cell_type": "markdown",
   "metadata": {},
   "source": [
    "#### Neural Network with autoencoder"
   ]
  },
  {
   "cell_type": "code",
   "execution_count": 18,
   "metadata": {},
   "outputs": [],
   "source": [
    "encoding_dim = 32 #numero a piacere\n",
    "\n",
    "input_img = Input(shape=(784,))\n",
    "encoded = Dense(encoding_dim, activation='relu')(input_img)\n",
    "decoded = Dense(784, activation='sigmoid')(encoded)\n",
    "autoencoder = Model(input_img, decoded)\n",
    "encoder = Model(input_img, encoded)\n",
    "encoded_input = Input(shape=(encoding_dim,))\n",
    "decoder_layer = autoencoder.layers[-1]\n",
    "decoder = Model(encoded_input, decoder_layer(encoded_input))"
   ]
  },
  {
   "cell_type": "code",
   "execution_count": 19,
   "metadata": {},
   "outputs": [
    {
     "name": "stdout",
     "output_type": "stream",
     "text": [
      "Model: \"model_1\"\n",
      "_________________________________________________________________\n",
      "Layer (type)                 Output Shape              Param #   \n",
      "=================================================================\n",
      "input_1 (InputLayer)         (None, 784)               0         \n",
      "_________________________________________________________________\n",
      "dense_6 (Dense)              (None, 32)                25120     \n",
      "_________________________________________________________________\n",
      "dense_7 (Dense)              (None, 784)               25872     \n",
      "=================================================================\n",
      "Total params: 50,992\n",
      "Trainable params: 50,992\n",
      "Non-trainable params: 0\n",
      "_________________________________________________________________\n"
     ]
    }
   ],
   "source": [
    "autoencoder.compile(optimizer='adadelta', loss='binary_crossentropy')\n",
    "autoencoder.summary()"
   ]
  },
  {
   "cell_type": "code",
   "execution_count": 20,
   "metadata": {},
   "outputs": [
    {
     "name": "stdout",
     "output_type": "stream",
     "text": [
      "Train on 12600 samples, validate on 1400 samples\n",
      "Epoch 1/100\n",
      "12600/12600 [==============================] - 1s 87us/step - loss: 0.6778 - val_loss: 0.6375\n",
      "Epoch 2/100\n",
      "12600/12600 [==============================] - 1s 71us/step - loss: 0.5380 - val_loss: 0.4298\n",
      "Epoch 3/100\n",
      "12600/12600 [==============================] - 1s 71us/step - loss: 0.3964 - val_loss: 0.3785\n",
      "Epoch 4/100\n",
      "12600/12600 [==============================] - 1s 69us/step - loss: 0.3726 - val_loss: 0.3691\n",
      "Epoch 5/100\n",
      "12600/12600 [==============================] - 1s 69us/step - loss: 0.3665 - val_loss: 0.3650\n",
      "Epoch 6/100\n",
      "12600/12600 [==============================] - 1s 65us/step - loss: 0.3632 - val_loss: 0.3623\n",
      "Epoch 7/100\n",
      "12600/12600 [==============================] - 1s 73us/step - loss: 0.3609 - val_loss: 0.3602\n",
      "Epoch 8/100\n",
      "12600/12600 [==============================] - 1s 69us/step - loss: 0.3588 - val_loss: 0.3581\n",
      "Epoch 9/100\n",
      "12600/12600 [==============================] - 1s 68us/step - loss: 0.3567 - val_loss: 0.3559\n",
      "Epoch 10/100\n",
      "12600/12600 [==============================] - 1s 72us/step - loss: 0.3545 - val_loss: 0.3536\n",
      "Epoch 11/100\n",
      "12600/12600 [==============================] - 1s 69us/step - loss: 0.3521 - val_loss: 0.3511\n",
      "Epoch 12/100\n",
      "12600/12600 [==============================] - 1s 69us/step - loss: 0.3495 - val_loss: 0.3482\n",
      "Epoch 13/100\n",
      "12600/12600 [==============================] - 1s 70us/step - loss: 0.3465 - val_loss: 0.3452\n",
      "Epoch 14/100\n",
      "12600/12600 [==============================] - 1s 71us/step - loss: 0.3434 - val_loss: 0.3418\n",
      "Epoch 15/100\n",
      "12600/12600 [==============================] - 1s 71us/step - loss: 0.3401 - val_loss: 0.3385\n",
      "Epoch 16/100\n",
      "12600/12600 [==============================] - 1s 72us/step - loss: 0.3366 - val_loss: 0.3351\n",
      "Epoch 17/100\n",
      "12600/12600 [==============================] - 1s 73us/step - loss: 0.3332 - val_loss: 0.3315\n",
      "Epoch 18/100\n",
      "12600/12600 [==============================] - 1s 70us/step - loss: 0.3298 - val_loss: 0.3282\n",
      "Epoch 19/100\n",
      "12600/12600 [==============================] - 1s 68us/step - loss: 0.3265 - val_loss: 0.3250\n",
      "Epoch 20/100\n",
      "12600/12600 [==============================] - 1s 71us/step - loss: 0.3233 - val_loss: 0.3219\n",
      "Epoch 21/100\n",
      "12600/12600 [==============================] - 1s 71us/step - loss: 0.3202 - val_loss: 0.3189\n",
      "Epoch 22/100\n",
      "12600/12600 [==============================] - 1s 71us/step - loss: 0.3172 - val_loss: 0.3161\n",
      "Epoch 23/100\n",
      "12600/12600 [==============================] - 1s 72us/step - loss: 0.3144 - val_loss: 0.3133\n",
      "Epoch 24/100\n",
      "12600/12600 [==============================] - 1s 71us/step - loss: 0.3117 - val_loss: 0.3108\n",
      "Epoch 25/100\n",
      "12600/12600 [==============================] - 1s 71us/step - loss: 0.3091 - val_loss: 0.3082\n",
      "Epoch 26/100\n",
      "12600/12600 [==============================] - 1s 70us/step - loss: 0.3067 - val_loss: 0.3058\n",
      "Epoch 27/100\n",
      "12600/12600 [==============================] - 1s 73us/step - loss: 0.3044 - val_loss: 0.3037\n",
      "Epoch 28/100\n",
      "12600/12600 [==============================] - 1s 72us/step - loss: 0.3022 - val_loss: 0.3016\n",
      "Epoch 29/100\n",
      "12600/12600 [==============================] - 1s 71us/step - loss: 0.3001 - val_loss: 0.2996\n",
      "Epoch 30/100\n",
      "12600/12600 [==============================] - 1s 71us/step - loss: 0.2982 - val_loss: 0.2977\n",
      "Epoch 31/100\n",
      "12600/12600 [==============================] - 1s 71us/step - loss: 0.2963 - val_loss: 0.2959\n",
      "Epoch 32/100\n",
      "12600/12600 [==============================] - 1s 70us/step - loss: 0.2946 - val_loss: 0.2942\n",
      "Epoch 33/100\n",
      "12600/12600 [==============================] - 1s 70us/step - loss: 0.2929 - val_loss: 0.2925\n",
      "Epoch 34/100\n",
      "12600/12600 [==============================] - 1s 69us/step - loss: 0.2913 - val_loss: 0.2909\n",
      "Epoch 35/100\n",
      "12600/12600 [==============================] - 1s 70us/step - loss: 0.2897 - val_loss: 0.2894\n",
      "Epoch 36/100\n",
      "12600/12600 [==============================] - 1s 71us/step - loss: 0.2881 - val_loss: 0.2879\n",
      "Epoch 37/100\n",
      "12600/12600 [==============================] - 1s 71us/step - loss: 0.2866 - val_loss: 0.2863\n",
      "Epoch 38/100\n",
      "12600/12600 [==============================] - 1s 71us/step - loss: 0.2851 - val_loss: 0.2848\n",
      "Epoch 39/100\n",
      "12600/12600 [==============================] - 1s 67us/step - loss: 0.2836 - val_loss: 0.2833\n",
      "Epoch 40/100\n",
      "12600/12600 [==============================] - 1s 73us/step - loss: 0.2822 - val_loss: 0.2818\n",
      "Epoch 41/100\n",
      "12600/12600 [==============================] - 1s 71us/step - loss: 0.2807 - val_loss: 0.2803\n",
      "Epoch 42/100\n",
      "12600/12600 [==============================] - 1s 72us/step - loss: 0.2792 - val_loss: 0.2788\n",
      "Epoch 43/100\n",
      "12600/12600 [==============================] - 1s 71us/step - loss: 0.2777 - val_loss: 0.2773\n",
      "Epoch 44/100\n",
      "12600/12600 [==============================] - 1s 71us/step - loss: 0.2762 - val_loss: 0.2757\n",
      "Epoch 45/100\n",
      "12600/12600 [==============================] - 1s 72us/step - loss: 0.2747 - val_loss: 0.2742\n",
      "Epoch 46/100\n",
      "12600/12600 [==============================] - 1s 72us/step - loss: 0.2732 - val_loss: 0.2727\n",
      "Epoch 47/100\n",
      "12600/12600 [==============================] - 1s 72us/step - loss: 0.2717 - val_loss: 0.2711\n",
      "Epoch 48/100\n",
      "12600/12600 [==============================] - 1s 72us/step - loss: 0.2701 - val_loss: 0.2697\n",
      "Epoch 49/100\n",
      "12600/12600 [==============================] - 1s 73us/step - loss: 0.2686 - val_loss: 0.2681\n",
      "Epoch 50/100\n",
      "12600/12600 [==============================] - 1s 73us/step - loss: 0.2671 - val_loss: 0.2666\n",
      "Epoch 51/100\n",
      "12600/12600 [==============================] - 1s 73us/step - loss: 0.2657 - val_loss: 0.2651\n",
      "Epoch 52/100\n",
      "12600/12600 [==============================] - 1s 73us/step - loss: 0.2642 - val_loss: 0.2636\n",
      "Epoch 53/100\n",
      "12600/12600 [==============================] - 1s 74us/step - loss: 0.2627 - val_loss: 0.2621\n",
      "Epoch 54/100\n",
      "12600/12600 [==============================] - 1s 68us/step - loss: 0.2613 - val_loss: 0.2607\n",
      "Epoch 55/100\n",
      "12600/12600 [==============================] - 1s 72us/step - loss: 0.2598 - val_loss: 0.2592\n",
      "Epoch 56/100\n",
      "12600/12600 [==============================] - 1s 71us/step - loss: 0.2584 - val_loss: 0.2579\n",
      "Epoch 57/100\n",
      "12600/12600 [==============================] - 1s 77us/step - loss: 0.2570 - val_loss: 0.2564\n",
      "Epoch 58/100\n",
      "12600/12600 [==============================] - 1s 69us/step - loss: 0.2556 - val_loss: 0.2552\n",
      "Epoch 59/100\n",
      "12600/12600 [==============================] - 1s 70us/step - loss: 0.2543 - val_loss: 0.2538\n",
      "Epoch 60/100\n",
      "12600/12600 [==============================] - 1s 70us/step - loss: 0.2530 - val_loss: 0.2524\n",
      "Epoch 61/100\n",
      "12600/12600 [==============================] - 1s 72us/step - loss: 0.2517 - val_loss: 0.2512\n",
      "Epoch 62/100\n",
      "12600/12600 [==============================] - 1s 73us/step - loss: 0.2504 - val_loss: 0.2499\n",
      "Epoch 63/100\n",
      "12600/12600 [==============================] - 1s 72us/step - loss: 0.2491 - val_loss: 0.2486\n",
      "Epoch 64/100\n",
      "12600/12600 [==============================] - 1s 72us/step - loss: 0.2479 - val_loss: 0.2475\n",
      "Epoch 65/100\n",
      "12600/12600 [==============================] - 1s 73us/step - loss: 0.2467 - val_loss: 0.2462\n",
      "Epoch 66/100\n",
      "12600/12600 [==============================] - 1s 68us/step - loss: 0.2455 - val_loss: 0.2451\n",
      "Epoch 67/100\n",
      "12600/12600 [==============================] - 1s 65us/step - loss: 0.2443 - val_loss: 0.2439\n",
      "Epoch 68/100\n",
      "12600/12600 [==============================] - 1s 71us/step - loss: 0.2432 - val_loss: 0.2428\n",
      "Epoch 69/100\n",
      "12600/12600 [==============================] - 1s 71us/step - loss: 0.2420 - val_loss: 0.2417\n",
      "Epoch 70/100\n",
      "12600/12600 [==============================] - 1s 68us/step - loss: 0.2409 - val_loss: 0.2406\n",
      "Epoch 71/100\n",
      "12600/12600 [==============================] - 1s 71us/step - loss: 0.2399 - val_loss: 0.2395\n",
      "Epoch 72/100\n",
      "12600/12600 [==============================] - 1s 74us/step - loss: 0.2388 - val_loss: 0.2385\n",
      "Epoch 73/100\n",
      "12600/12600 [==============================] - 1s 72us/step - loss: 0.2378 - val_loss: 0.2375\n",
      "Epoch 74/100\n",
      "12600/12600 [==============================] - 1s 71us/step - loss: 0.2368 - val_loss: 0.2365\n",
      "Epoch 75/100\n",
      "12600/12600 [==============================] - 1s 74us/step - loss: 0.2358 - val_loss: 0.2355\n",
      "Epoch 76/100\n",
      "12600/12600 [==============================] - 1s 72us/step - loss: 0.2348 - val_loss: 0.2345\n",
      "Epoch 77/100\n"
     ]
    },
    {
     "name": "stdout",
     "output_type": "stream",
     "text": [
      "12600/12600 [==============================] - 1s 70us/step - loss: 0.2338 - val_loss: 0.2336\n",
      "Epoch 78/100\n",
      "12600/12600 [==============================] - 1s 69us/step - loss: 0.2329 - val_loss: 0.2326\n",
      "Epoch 79/100\n",
      "12600/12600 [==============================] - 1s 71us/step - loss: 0.2320 - val_loss: 0.2317\n",
      "Epoch 80/100\n",
      "12600/12600 [==============================] - 1s 72us/step - loss: 0.2311 - val_loss: 0.2309\n",
      "Epoch 81/100\n",
      "12600/12600 [==============================] - 1s 69us/step - loss: 0.2302 - val_loss: 0.2300\n",
      "Epoch 82/100\n",
      "12600/12600 [==============================] - 1s 70us/step - loss: 0.2293 - val_loss: 0.2292\n",
      "Epoch 83/100\n",
      "12600/12600 [==============================] - 1s 70us/step - loss: 0.2285 - val_loss: 0.2283\n",
      "Epoch 84/100\n",
      "12600/12600 [==============================] - 1s 70us/step - loss: 0.2277 - val_loss: 0.2275\n",
      "Epoch 85/100\n",
      "12600/12600 [==============================] - 1s 73us/step - loss: 0.2268 - val_loss: 0.2267\n",
      "Epoch 86/100\n",
      "12600/12600 [==============================] - 1s 68us/step - loss: 0.2260 - val_loss: 0.2259\n",
      "Epoch 87/100\n",
      "12600/12600 [==============================] - 1s 70us/step - loss: 0.2252 - val_loss: 0.2251\n",
      "Epoch 88/100\n",
      "12600/12600 [==============================] - 1s 72us/step - loss: 0.2245 - val_loss: 0.2244\n",
      "Epoch 89/100\n",
      "12600/12600 [==============================] - 1s 71us/step - loss: 0.2237 - val_loss: 0.2236\n",
      "Epoch 90/100\n",
      "12600/12600 [==============================] - 1s 74us/step - loss: 0.2230 - val_loss: 0.2228\n",
      "Epoch 91/100\n",
      "12600/12600 [==============================] - 1s 74us/step - loss: 0.2223 - val_loss: 0.2222\n",
      "Epoch 92/100\n",
      "12600/12600 [==============================] - 1s 73us/step - loss: 0.2215 - val_loss: 0.2215\n",
      "Epoch 93/100\n",
      "12600/12600 [==============================] - 1s 75us/step - loss: 0.2208 - val_loss: 0.2208\n",
      "Epoch 94/100\n",
      "12600/12600 [==============================] - 1s 74us/step - loss: 0.2201 - val_loss: 0.2200\n",
      "Epoch 95/100\n",
      "12600/12600 [==============================] - 1s 71us/step - loss: 0.2195 - val_loss: 0.2193\n",
      "Epoch 96/100\n",
      "12600/12600 [==============================] - 1s 71us/step - loss: 0.2188 - val_loss: 0.2187\n",
      "Epoch 97/100\n",
      "12600/12600 [==============================] - 1s 71us/step - loss: 0.2181 - val_loss: 0.2180\n",
      "Epoch 98/100\n",
      "12600/12600 [==============================] - 1s 69us/step - loss: 0.2175 - val_loss: 0.2174\n",
      "Epoch 99/100\n",
      "12600/12600 [==============================] - 1s 68us/step - loss: 0.2169 - val_loss: 0.2167\n",
      "Epoch 100/100\n",
      "12600/12600 [==============================] - 1s 72us/step - loss: 0.2162 - val_loss: 0.2161\n"
     ]
    },
    {
     "data": {
      "text/plain": [
       "<keras.callbacks.callbacks.History at 0x18ce452f448>"
      ]
     },
     "execution_count": 20,
     "metadata": {},
     "output_type": "execute_result"
    }
   ],
   "source": [
    "autoencoder.fit(XX_train, XX_train,\n",
    "                epochs=100,\n",
    "                batch_size=500,\n",
    "                shuffle=True,\n",
    "                validation_data=(XX_val, XX_val))"
   ]
  },
  {
   "cell_type": "code",
   "execution_count": 21,
   "metadata": {},
   "outputs": [
    {
     "data": {
      "image/png": "[encoded data removed]",
      "text/plain": [
       "<Figure size 1440x288 with 20 Axes>"
      ]
     },
     "metadata": {
      "needs_background": "light"
     },
     "output_type": "display_data"
    }
   ],
   "source": [
    "encoded_imgs = encoder.predict(XX_val)\n",
    "decoded_imgs = decoder.predict(encoded_imgs)\n",
    "\n",
    "n = 10 \n",
    "plt.figure(figsize=(20, 4))\n",
    "for i in range(n):\n",
    "    # original\n",
    "    ax = plt.subplot(2, n, i + 1)\n",
    "    plt.imshow(XX_val[i].reshape(28, 28))\n",
    "    plt.gray()\n",
    "    ax.get_xaxis().set_visible(False)\n",
    "    ax.get_yaxis().set_visible(False)\n",
    "\n",
    "    # reconstruction\n",
    "    ax = plt.subplot(2, n, i + 1 + n)\n",
    "    plt.imshow(decoded_imgs[i].reshape(28, 28))\n",
    "    plt.gray()\n",
    "    ax.get_xaxis().set_visible(False)\n",
    "    ax.get_yaxis().set_visible(False)\n",
    "plt.show()"
   ]
  },
  {
   "cell_type": "markdown",
   "metadata": {},
   "source": [
    "#### The use and evaluation of the encoded representation generated by the auto-encoder to solve the problem of supervised classification."
   ]
  },
  {
   "cell_type": "code",
   "execution_count": 22,
   "metadata": {},
   "outputs": [],
   "source": [
    "#applicazione dell'econder al train e al val\n",
    "XX_train_enc = encoder.predict(XX_train) \n",
    "XX_val_enc = encoder.predict(XX_val)"
   ]
  },
  {
   "cell_type": "code",
   "execution_count": 23,
   "metadata": {},
   "outputs": [],
   "source": [
    "n_epochs = 100\n",
    "batch_size = 100\n",
    "\n",
    "model2 = Sequential()\n",
    "model2.add(Dense(1024, activation='relu', input_shape=(32,)))\n",
    "model2.add(Dropout(0.5)) #to avoid overfitting\n",
    "model2.add(Dense(256, activation='relu'))\n",
    "model2.add(Dropout(0.3))\n",
    "model2.add(Dense(128, activation='relu'))\n",
    "model2.add(Dropout(0.3))\n",
    "model2.add(Dense(64, activation='relu'))\n",
    "model2.add(Dropout(0.3))\n",
    "model2.add(Dense(11, activation='softmax'))\n",
    "\n",
    "model2.compile(optimizer='adam',\n",
    "              loss='categorical_crossentropy',\n",
    "              metrics=['accuracy'])"
   ]
  },
  {
   "cell_type": "code",
   "execution_count": 24,
   "metadata": {},
   "outputs": [
    {
     "name": "stdout",
     "output_type": "stream",
     "text": [
      "Train on 12600 samples, validate on 1400 samples\n",
      "Epoch 1/100\n",
      "12600/12600 [==============================] - 3s 238us/step - loss: 2.0251 - accuracy: 0.2994 - val_loss: 1.2861 - val_accuracy: 0.6186\n",
      "Epoch 2/100\n",
      "12600/12600 [==============================] - 2s 195us/step - loss: 1.2601 - accuracy: 0.5784 - val_loss: 0.7519 - val_accuracy: 0.7586\n",
      "Epoch 3/100\n",
      "12600/12600 [==============================] - 3s 213us/step - loss: 0.9164 - accuracy: 0.7124 - val_loss: 0.6091 - val_accuracy: 0.8236\n",
      "Epoch 4/100\n",
      "12600/12600 [==============================] - 2s 190us/step - loss: 0.7650 - accuracy: 0.7679 - val_loss: 0.4716 - val_accuracy: 0.8564\n",
      "Epoch 5/100\n",
      "12600/12600 [==============================] - 2s 189us/step - loss: 0.6761 - accuracy: 0.7915 - val_loss: 0.4598 - val_accuracy: 0.8543\n",
      "Epoch 6/100\n",
      "12600/12600 [==============================] - 2s 191us/step - loss: 0.6119 - accuracy: 0.8173 - val_loss: 0.4078 - val_accuracy: 0.8750\n",
      "Epoch 7/100\n",
      "12600/12600 [==============================] - 2s 195us/step - loss: 0.5790 - accuracy: 0.8310 - val_loss: 0.4033 - val_accuracy: 0.8821\n",
      "Epoch 8/100\n",
      "12600/12600 [==============================] - 2s 181us/step - loss: 0.5324 - accuracy: 0.8438 - val_loss: 0.3644 - val_accuracy: 0.8964\n",
      "Epoch 9/100\n",
      "12600/12600 [==============================] - 3s 203us/step - loss: 0.5153 - accuracy: 0.8458 - val_loss: 0.3635 - val_accuracy: 0.8921\n",
      "Epoch 10/100\n",
      "12600/12600 [==============================] - 2s 184us/step - loss: 0.5029 - accuracy: 0.8538 - val_loss: 0.3534 - val_accuracy: 0.8857\n",
      "Epoch 11/100\n",
      "12600/12600 [==============================] - 2s 176us/step - loss: 0.4731 - accuracy: 0.8602 - val_loss: 0.3479 - val_accuracy: 0.8950\n",
      "Epoch 12/100\n",
      "12600/12600 [==============================] - 2s 187us/step - loss: 0.4631 - accuracy: 0.8636 - val_loss: 0.3481 - val_accuracy: 0.8964\n",
      "Epoch 13/100\n",
      "12600/12600 [==============================] - 2s 190us/step - loss: 0.4591 - accuracy: 0.8644 - val_loss: 0.3358 - val_accuracy: 0.8964\n",
      "Epoch 14/100\n",
      "12600/12600 [==============================] - 2s 190us/step - loss: 0.4380 - accuracy: 0.8753 - val_loss: 0.3146 - val_accuracy: 0.9114\n",
      "Epoch 15/100\n",
      "12600/12600 [==============================] - 2s 187us/step - loss: 0.4321 - accuracy: 0.8748 - val_loss: 0.3028 - val_accuracy: 0.9036\n",
      "Epoch 16/100\n",
      "12600/12600 [==============================] - 2s 192us/step - loss: 0.4116 - accuracy: 0.8817 - val_loss: 0.2946 - val_accuracy: 0.9186\n",
      "Epoch 17/100\n",
      "12600/12600 [==============================] - 3s 201us/step - loss: 0.4075 - accuracy: 0.8801 - val_loss: 0.3108 - val_accuracy: 0.9043\n",
      "Epoch 18/100\n",
      "12600/12600 [==============================] - 2s 193us/step - loss: 0.4141 - accuracy: 0.8794 - val_loss: 0.2993 - val_accuracy: 0.9100\n",
      "Epoch 19/100\n",
      "12600/12600 [==============================] - 3s 199us/step - loss: 0.3926 - accuracy: 0.8854 - val_loss: 0.3038 - val_accuracy: 0.9079\n",
      "Epoch 20/100\n",
      "12600/12600 [==============================] - 2s 192us/step - loss: 0.3831 - accuracy: 0.8863 - val_loss: 0.2710 - val_accuracy: 0.9157\n",
      "Epoch 21/100\n",
      "12600/12600 [==============================] - 2s 186us/step - loss: 0.3682 - accuracy: 0.8886 - val_loss: 0.2967 - val_accuracy: 0.9064\n",
      "Epoch 22/100\n",
      "12600/12600 [==============================] - 2s 197us/step - loss: 0.3694 - accuracy: 0.8895 - val_loss: 0.2830 - val_accuracy: 0.9121\n",
      "Epoch 23/100\n",
      "12600/12600 [==============================] - 2s 187us/step - loss: 0.3675 - accuracy: 0.8904 - val_loss: 0.2745 - val_accuracy: 0.9114\n",
      "Epoch 24/100\n",
      "12600/12600 [==============================] - 2s 193us/step - loss: 0.3592 - accuracy: 0.8905 - val_loss: 0.2881 - val_accuracy: 0.9150\n",
      "Epoch 25/100\n",
      "12600/12600 [==============================] - 3s 204us/step - loss: 0.3405 - accuracy: 0.8980 - val_loss: 0.2776 - val_accuracy: 0.9157\n",
      "Epoch 26/100\n",
      "12600/12600 [==============================] - 2s 197us/step - loss: 0.3469 - accuracy: 0.8965 - val_loss: 0.2618 - val_accuracy: 0.9207\n",
      "Epoch 27/100\n",
      "12600/12600 [==============================] - 2s 193us/step - loss: 0.3480 - accuracy: 0.8977 - val_loss: 0.2786 - val_accuracy: 0.9157\n",
      "Epoch 28/100\n",
      "12600/12600 [==============================] - 3s 206us/step - loss: 0.3376 - accuracy: 0.9008 - val_loss: 0.2685 - val_accuracy: 0.9164\n",
      "Epoch 29/100\n",
      "12600/12600 [==============================] - 3s 225us/step - loss: 0.3396 - accuracy: 0.8992 - val_loss: 0.2688 - val_accuracy: 0.9143\n",
      "Epoch 30/100\n",
      "12600/12600 [==============================] - 2s 188us/step - loss: 0.3281 - accuracy: 0.8991 - val_loss: 0.2782 - val_accuracy: 0.9143\n",
      "Epoch 31/100\n",
      "12600/12600 [==============================] - 3s 207us/step - loss: 0.3293 - accuracy: 0.9038 - val_loss: 0.2558 - val_accuracy: 0.9200\n",
      "Epoch 32/100\n",
      "12600/12600 [==============================] - 3s 205us/step - loss: 0.3213 - accuracy: 0.9053 - val_loss: 0.2622 - val_accuracy: 0.9200\n",
      "Epoch 33/100\n",
      "12600/12600 [==============================] - 3s 199us/step - loss: 0.3245 - accuracy: 0.9004 - val_loss: 0.2451 - val_accuracy: 0.9271\n",
      "Epoch 34/100\n",
      "12600/12600 [==============================] - 2s 186us/step - loss: 0.3136 - accuracy: 0.9056 - val_loss: 0.2524 - val_accuracy: 0.9243\n",
      "Epoch 35/100\n",
      "12600/12600 [==============================] - 2s 162us/step - loss: 0.3177 - accuracy: 0.9067 - val_loss: 0.2501 - val_accuracy: 0.9250\n",
      "Epoch 36/100\n",
      "12600/12600 [==============================] - 2s 158us/step - loss: 0.3024 - accuracy: 0.9075 - val_loss: 0.2550 - val_accuracy: 0.9200\n",
      "Epoch 37/100\n",
      "12600/12600 [==============================] - 2s 154us/step - loss: 0.3185 - accuracy: 0.9067 - val_loss: 0.2516 - val_accuracy: 0.9207\n",
      "Epoch 38/100\n",
      "12600/12600 [==============================] - 2s 157us/step - loss: 0.2929 - accuracy: 0.9141 - val_loss: 0.2680 - val_accuracy: 0.9221\n",
      "Epoch 39/100\n",
      "12600/12600 [==============================] - 2s 158us/step - loss: 0.2984 - accuracy: 0.9052 - val_loss: 0.2622 - val_accuracy: 0.9229\n",
      "Epoch 40/100\n",
      "12600/12600 [==============================] - 2s 155us/step - loss: 0.2934 - accuracy: 0.9087 - val_loss: 0.2637 - val_accuracy: 0.9207\n",
      "Epoch 41/100\n",
      "12600/12600 [==============================] - 2s 160us/step - loss: 0.2908 - accuracy: 0.9108 - val_loss: 0.2748 - val_accuracy: 0.9214\n",
      "Epoch 42/100\n",
      "12600/12600 [==============================] - 2s 158us/step - loss: 0.2837 - accuracy: 0.9161 - val_loss: 0.2476 - val_accuracy: 0.9243\n",
      "Epoch 43/100\n",
      "12600/12600 [==============================] - 2s 155us/step - loss: 0.2825 - accuracy: 0.9133 - val_loss: 0.2463 - val_accuracy: 0.9250\n",
      "Epoch 00043: early stopping\n",
      "1400/1400 [==============================] - 0s 25us/step\n",
      "validation loss, validation acc: [0.3943219195519175, 0.9471428394317627]\n"
     ]
    }
   ],
   "source": [
    "history_model2 = model2.fit(XX_train_enc, YY_train, validation_data = (XX_val_enc, YY_val), epochs=n_epochs, \n",
    "          batch_size=batch_size, verbose=True, callbacks=[best_model, early_stop]) \n",
    "\n",
    "score2 = model2.evaluate(XX_val_enc, YY_val, batch_size=batch_size) #evaluating the models accuracy or loss,\n",
    "print('validation loss, validation acc:', score)"
   ]
  },
  {
   "cell_type": "code",
   "execution_count": 25,
   "metadata": {},
   "outputs": [
    {
     "name": "stdout",
     "output_type": "stream",
     "text": [
      "Accuracy validation:  0.9471428394317627\n",
      "Accuracy validation with autoencoder 0.925000011920929\n"
     ]
    }
   ],
   "source": [
    "print('Accuracy validation: ', score[1])\n",
    "print('Accuracy validation with autoencoder', score2[1])"
   ]
  },
  {
   "cell_type": "code",
   "execution_count": 26,
   "metadata": {},
   "outputs": [
    {
     "data": {
      "text/plain": [
       "array([16, 17, 18, 19, 20, 21, 22, 23, 24, 25, 26], dtype=int64)"
      ]
     },
     "execution_count": 26,
     "metadata": {},
     "output_type": "execute_result"
    }
   ],
   "source": [
    "x_test_encoder = encoder.predict(xx_test) \n",
    "class_y_test = model2.predict_classes(x_test_encoder)\n",
    "\n",
    "y_test = class_y_test + 16"
   ]
  },
  {
   "cell_type": "code",
   "execution_count": 29,
   "metadata": {},
   "outputs": [],
   "source": [
    "np.savetxt(r'C:\\Users\\FedericaFiorentini\\Desktop\\Università\\2Anno\\Advanced ML\\Esercitazioni\\2Assignment\\Federica_Fiorentini_807124_score2.txt', y_test, fmt='%d')"
   ]
  }
 ],
 "metadata": {
  "kernelspec": {
   "display_name": "Python 3",
   "language": "python",
   "name": "python3"
  },
  "language_info": {
   "codemirror_mode": {
    "name": "ipython",
    "version": 3
   },
   "file_extension": ".py",
   "mimetype": "text/x-python",
   "name": "python",
   "nbconvert_exporter": "python",
   "pygments_lexer": "ipython3",
   "version": "3.7.4"
  }
 },
 "nbformat": 4,
 "nbformat_minor": 2
}
